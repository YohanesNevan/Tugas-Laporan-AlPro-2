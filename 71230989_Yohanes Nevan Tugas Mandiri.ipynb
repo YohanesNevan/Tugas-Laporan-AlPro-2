{
 "cells": [
  {
   "cell_type": "code",
   "execution_count": 1,
   "metadata": {},
   "outputs": [
    {
     "name": "stdout",
     "output_type": "stream",
     "text": [
      "Berat badan yang diperlukan untuk tinggi badan 170.0 m dan BMI 60.0 adalah 1734000.00 kg\n"
     ]
    }
   ],
   "source": [
    "def hitung_berat_badan(tinggi_badan, berat_badan): #TUGAS 2.1\n",
    "    bmi = berat_badan * (tinggi_badan**2)\n",
    "    return bmi\n",
    "\n",
    "tinggi_badan = float(input(\"Masukkan tinggi badan (m): \"))\n",
    "berat_badan = float(input(\"Masukkan berat badan (kg): \"))\n",
    "\n",
    "berat_badan_diperlukan = hitung_berat_badan(tinggi_badan, berat_badan)\n",
    "print(f\"Berat badan yang diperlukan untuk tinggi badan {tinggi_badan} m dan BMI {berat_badan} adalah {berat_badan_diperlukan:.2f} kg\")"
   ]
  },
  {
   "cell_type": "code",
   "execution_count": 1,
   "metadata": {},
   "outputs": [
    {
     "name": "stdout",
     "output_type": "stream",
     "text": [
      "Hasil dari fungsi f(x) = (2x^3 + 2x + 15) / x untuk x = 4 adalah: 37.75\n"
     ]
    }
   ],
   "source": [
    "def hitung_fungsi(x):                               #TUGAS 2.2\n",
    "    # Rumus fungsi f(x) = (2x^3 + 2x + 15) / x\n",
    "\n",
    "    hasil = (2 * x**3 + 2 * x + 15) / x\n",
    "    return hasil\n",
    "\n",
    "def main():\n",
    "    # Input bilangan bulat x dari pengguna\n",
    "    x = int(input(\"Masukkan bilangan bulat x: \"))\n",
    "\n",
    "    # Periksa apakah x tidak boleh sama dengan 0\n",
    "    if x == 0:\n",
    "        print(\"Error: x tidak boleh sama dengan 0.\")\n",
    "    else:\n",
    "        # Hitung hasil fungsi dan tampilkan\n",
    "        hasil_fungsi = hitung_fungsi(x)\n",
    "        print(f\"Hasil dari fungsi f(x) = (2x^3 + 2x + 15) / x untuk x = {x} adalah: {hasil_fungsi}\")\n",
    "\n",
    "if __name__ == \"__main__\":\n",
    "    main()"
   ]
  },
  {
   "cell_type": "code",
   "execution_count": 10,
   "metadata": {},
   "outputs": [
    {
     "name": "stdout",
     "output_type": "stream",
     "text": [
      "1. Pendapatan Budi selama libur musim panas sebelum melakukan pembayaran pajak: Rp 17,500,000.00\n",
      "2. Pendapatan Budi selama libur musim panas setelah melakukan pembayaran pajak: Rp 15,050,000.00\n",
      "3. Jumlah uang yang akan Budi habiskan untuk membeli pakaian dan aksesoris: Rp 1,505,000.00\n",
      "4. Jumlah uang yang akan Budi habiskan untuk membeli alat tulis: Rp 150,500.00\n",
      "5. Jumlah uang yang akan Budi sedekahkan: Rp 3,348,625.00\n",
      "6. Jumlah uang yang akan diterima anak yatim: Rp 1,004,587.50\n",
      "7. Jumlah uang yang akan diterima kaum dhuafa: Rp 2,344,037.50\n"
     ]
    }
   ],
   "source": [
    "def hitung_pendapatan(gaji_per_jam, jam_kerja_per_minggu):      #TUGAS 2.3\n",
    "    # Hitung pendapatan sebelum pajak\n",
    "    pendapatan_sebelum_pajak = gaji_per_jam * jam_kerja_per_minggu * 5 #(kerja selama 5 minggu) #nomor 1\n",
    "\n",
    "    # Hitung pajak (14% dari pendapatan sebelum pajak)\n",
    "    pajak = (14/100) * pendapatan_sebelum_pajak\n",
    "\n",
    "    # Hitung pendapatan setelah pajak\n",
    "    pendapatan_setelah_pajak = pendapatan_sebelum_pajak - pajak #nomor 2\n",
    "\n",
    "    # Hitung pengeluaran untuk membeli baju dan aksesoris (10% dari pendapatan bersih)\n",
    "    pengeluaran_baju_aksesoris = (10/100) * pendapatan_setelah_pajak #nomor 3\n",
    "\n",
    "    # Hitung pengeluaran untuk membeli alat tulis (1% dari pendapatan bersih)\n",
    "    pengeluaran_alat_tulis = (1/100) * pendapatan_setelah_pajak #nomor 4\n",
    "\n",
    "    # Hitung jumlah uang yang akan disedekahkan (25% dari sisa uang)\n",
    "    sisa_uang_setelah_pengeluaran = pendapatan_setelah_pajak - pengeluaran_baju_aksesoris - pengeluaran_alat_tulis\n",
    "    \n",
    "    sedekah = (25/100) * sisa_uang_setelah_pengeluaran #nomor 5\n",
    "\n",
    "    # Hitung jumlah uang yang akan diterima anak yatim (30% dari uang yang disedekahkan)\n",
    "    uang_anak_yatim = (30/100) * sedekah #nomor 6\n",
    "\n",
    "    # Hitung jumlah uang yang akan diterima kaum dhuafa (sisanya dari uang yang disedekahkan)\n",
    "    uang_kuam_dhuafa = sedekah - uang_anak_yatim #nomor 7\n",
    "    \n",
    "    return (pendapatan_sebelum_pajak, pendapatan_setelah_pajak, pengeluaran_baju_aksesoris, pengeluaran_alat_tulis, sedekah, uang_anak_yatim, uang_kuam_dhuafa)\n",
    "\n",
    "gaji_per_jam = float(input(\"Masukkan gaji per jam: \"))\n",
    "jam_kerja_per_minggu = int(input(\"Masukkan jumlah jam kerja per minggu: \"))\n",
    "\n",
    "pendapatan_sebelum_pajak, pendapatan_setelah_pajak, pengeluaran_baju_aksesoris, pengeluaran_alat_tulis, sedekah, uang_anak_yatim, uang_kuam_dhuafa = hitung_pendapatan(gaji_per_jam, jam_kerja_per_minggu)\n",
    "\n",
    "print(f\"1. Pendapatan Budi selama libur musim panas sebelum melakukan pembayaran pajak: Rp {pendapatan_sebelum_pajak:,.2f}\")\n",
    "print(f\"2. Pendapatan Budi selama libur musim panas setelah melakukan pembayaran pajak: Rp {pendapatan_setelah_pajak:,.2f}\")\n",
    "print(f\"3. Jumlah uang yang akan Budi habiskan untuk membeli pakaian dan aksesoris: Rp {pengeluaran_baju_aksesoris:,.2f}\")\n",
    "print(f\"4. Jumlah uang yang akan Budi habiskan untuk membeli alat tulis: Rp {pengeluaran_alat_tulis:,.2f}\")\n",
    "print(f\"5. Jumlah uang yang akan Budi sedekahkan: Rp {sedekah:,.2f}\")\n",
    "print(f\"6. Jumlah uang yang akan diterima anak yatim: Rp {uang_anak_yatim:,.2f}\")\n",
    "print(f\"7. Jumlah uang yang akan diterima kaum dhuafa: Rp {uang_kuam_dhuafa:,.2f}\")"
   ]
  }
 ],
 "metadata": {
  "kernelspec": {
   "display_name": "Python 3",
   "language": "python",
   "name": "python3"
  },
  "language_info": {
   "codemirror_mode": {
    "name": "ipython",
    "version": 3
   },
   "file_extension": ".py",
   "mimetype": "text/x-python",
   "name": "python",
   "nbconvert_exporter": "python",
   "pygments_lexer": "ipython3",
   "version": "3.12.2"
  }
 },
 "nbformat": 4,
 "nbformat_minor": 2
}
