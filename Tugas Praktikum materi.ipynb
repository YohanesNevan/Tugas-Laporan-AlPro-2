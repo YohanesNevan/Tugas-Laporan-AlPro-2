{
 "cells": [
  {
   "cell_type": "code",
   "execution_count": 6,
   "metadata": {},
   "outputs": [
    {
     "name": "stdout",
     "output_type": "stream",
     "text": [
      "============================\n",
      "DATA AKADEMIK\n",
      "Nama anda  Nevan\n",
      "Alamat anda  Yogya\n",
      "IPK anda  4.0\n"
     ]
    }
   ],
   "source": [
    "Nama = input(\"Nama Anda= \")\n",
    "Alamat = input(\"Alamat Anda= \")\n",
    "ipk = input(\"IPK Anda= \")\n",
    "\n",
    "print(\"============================\")\n",
    "print(\"DATA AKADEMIK\")\n",
    "print(\"Nama anda \", Nama)\n",
    "print(\"Alamat anda \", Alamat)\n",
    "print(\"IPK anda \", ipk)"
   ]
  },
  {
   "cell_type": "code",
   "execution_count": null,
   "metadata": {},
   "outputs": [],
   "source": [
    "#CONTOH PROGRAM\n",
    "\n",
    "# MENGHITUNG BILANGAN\n",
    "\n",
    "x1 = eval(input(\"X1 = \"))\n",
    "\n",
    "x2 = eval(input(\"X2 = \"))\n",
    "\n",
    "x3 = eval(input(\"X3 = \"))\n",
    "\n",
    "x4 = eval(input(\"X4 = \"))\n",
    "\n",
    "jumlah = x1+x2+x3+x4\n",
    "\n",
    "kali = x1*x2*x3*x4\n",
    "\n",
    "print('Hasil Penjumlah semua bilangan = ', jumlah)\n",
    "\n",
    "print('Hasil Perkalian semua bilangan = ', kali)\n",
    "\n",
    "jumlah = jumlah + 0.5\n",
    "\n",
    "print('Jika ditambah 0.5 hasilnya = ',jumlah)\n",
    "\n",
    "kali = kali * 0.5\n",
    "\n",
    "print('Jika dikali 0.5 hasilnya = ',kali)"
   ]
  },
  {
   "cell_type": "code",
   "execution_count": 1,
   "metadata": {},
   "outputs": [
    {
     "name": "stdout",
     "output_type": "stream",
     "text": [
      "30\n",
      "120\n",
      "Tipe data X dikonversi ke int agar dapat dihitung Y=4*x\n",
      "z 150.0\n",
      "Tipe data X dikonversi menjadi float untuk dijumlahkan dengan tipe data Y. hasilnya yang ditampung bertipe float juga\n",
      "Tanda != artinya tidak sama dejigan\n",
      "Tanda artinya sama dengan\n"
     ]
    }
   ],
   "source": [
    "x=30\n",
    "print(x)\n",
    "type(x)\n",
    "\n",
    "y = 4*int(x)\n",
    "print (y)\n",
    "\n",
    "print(\"Tipe data X dikonversi ke int agar dapat dihitung Y=4*x\")\n",
    "\n",
    "z=y+float (x)\n",
    "print(\"z\",z)\n",
    "\n",
    "print(\"Tipe data X dikonversi menjadi float untuk dijumlahkan dengan tipe data Y. hasilnya yang ditampung bertipe float juga\")\n",
    "\n",
    "\n",
    "P = True\n",
    "\n",
    "L = False\n",
    "\n",
    "P!=L\n",
    "print(\"Tanda != artinya tidak sama dejigan\")\n",
    "\n",
    "P==L\n",
    "print(\"Tanda artinya sama dengan\")\n"
   ]
  }
 ],
 "metadata": {
  "kernelspec": {
   "display_name": "Python 3",
   "language": "python",
   "name": "python3"
  },
  "language_info": {
   "codemirror_mode": {
    "name": "ipython",
    "version": 3
   },
   "file_extension": ".py",
   "mimetype": "text/x-python",
   "name": "python",
   "nbconvert_exporter": "python",
   "pygments_lexer": "ipython3",
   "version": "3.12.2"
  }
 },
 "nbformat": 4,
 "nbformat_minor": 2
}
